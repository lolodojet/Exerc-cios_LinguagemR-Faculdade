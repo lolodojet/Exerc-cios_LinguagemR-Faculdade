{
  "cells": [
    {
      "cell_type": "markdown",
      "metadata": {
        "id": "view-in-github",
        "colab_type": "text"
      },
      "source": [
        "<a href=\"https://colab.research.google.com/github/lolodojet/Exerc-cios_LinguagemR-Faculdade/blob/main/Conhe%C3%A7a_o_Colab.ipynb\" target=\"_parent\"><img src=\"https://colab.research.google.com/assets/colab-badge.svg\" alt=\"Open In Colab\"/></a>"
      ]
    },
    {
      "cell_type": "markdown",
      "source": [
        "**Questão 1**"
      ],
      "metadata": {
        "id": "GtLVs_p5i8we"
      }
    },
    {
      "cell_type": "code",
      "source": [
        "mode(10)\n",
        "mode(\"Ola mundo\")\n",
        "mode(2 < 4)\n",
        "mode(sin)"
      ],
      "metadata": {
        "colab": {
          "base_uri": "https://localhost:8080/",
          "height": 86
        },
        "id": "UMBPAfTxi_1G",
        "outputId": "3b7a3f5e-36df-430d-d3b6-b1ca7d1760ad"
      },
      "execution_count": 421,
      "outputs": [
        {
          "output_type": "display_data",
          "data": {
            "text/html": [
              "'numeric'"
            ],
            "text/markdown": "'numeric'",
            "text/latex": "'numeric'",
            "text/plain": [
              "[1] \"numeric\""
            ]
          },
          "metadata": {}
        },
        {
          "output_type": "display_data",
          "data": {
            "text/html": [
              "'character'"
            ],
            "text/markdown": "'character'",
            "text/latex": "'character'",
            "text/plain": [
              "[1] \"character\""
            ]
          },
          "metadata": {}
        },
        {
          "output_type": "display_data",
          "data": {
            "text/html": [
              "'logical'"
            ],
            "text/markdown": "'logical'",
            "text/latex": "'logical'",
            "text/plain": [
              "[1] \"logical\""
            ]
          },
          "metadata": {}
        },
        {
          "output_type": "display_data",
          "data": {
            "text/html": [
              "'function'"
            ],
            "text/markdown": "'function'",
            "text/latex": "'function'",
            "text/plain": [
              "[1] \"function\""
            ]
          },
          "metadata": {}
        }
      ]
    },
    {
      "cell_type": "markdown",
      "source": [
        "**Questão 2**"
      ],
      "metadata": {
        "id": "6ZFIRGlGkRBl"
      }
    },
    {
      "cell_type": "code",
      "source": [
        "4+9\n",
        "4-5\n",
        "4*5\n",
        "4 / 5\n",
        "4 ^ 2\n",
        "4 ^ 5\n",
        "cos(45)\n",
        "(25 - 12) ^ 2\n",
        "(4 + 5) * 7 - (36 / 18) ^ 3\n",
        "0 / 0\n",
        "Inf / 0\n"
      ],
      "metadata": {
        "colab": {
          "base_uri": "https://localhost:8080/",
          "height": 208
        },
        "id": "S5-Osbm-kUZd",
        "outputId": "d7c53810-adf3-4fdb-f88d-d0c6824d2060"
      },
      "execution_count": 422,
      "outputs": [
        {
          "output_type": "display_data",
          "data": {
            "text/html": [
              "13"
            ],
            "text/markdown": "13",
            "text/latex": "13",
            "text/plain": [
              "[1] 13"
            ]
          },
          "metadata": {}
        },
        {
          "output_type": "display_data",
          "data": {
            "text/html": [
              "-1"
            ],
            "text/markdown": "-1",
            "text/latex": "-1",
            "text/plain": [
              "[1] -1"
            ]
          },
          "metadata": {}
        },
        {
          "output_type": "display_data",
          "data": {
            "text/html": [
              "20"
            ],
            "text/markdown": "20",
            "text/latex": "20",
            "text/plain": [
              "[1] 20"
            ]
          },
          "metadata": {}
        },
        {
          "output_type": "display_data",
          "data": {
            "text/html": [
              "0.8"
            ],
            "text/markdown": "0.8",
            "text/latex": "0.8",
            "text/plain": [
              "[1] 0.8"
            ]
          },
          "metadata": {}
        },
        {
          "output_type": "display_data",
          "data": {
            "text/html": [
              "16"
            ],
            "text/markdown": "16",
            "text/latex": "16",
            "text/plain": [
              "[1] 16"
            ]
          },
          "metadata": {}
        },
        {
          "output_type": "display_data",
          "data": {
            "text/html": [
              "1024"
            ],
            "text/markdown": "1024",
            "text/latex": "1024",
            "text/plain": [
              "[1] 1024"
            ]
          },
          "metadata": {}
        },
        {
          "output_type": "display_data",
          "data": {
            "text/html": [
              "0.52532198881773"
            ],
            "text/markdown": "0.52532198881773",
            "text/latex": "0.52532198881773",
            "text/plain": [
              "[1] 0.525322"
            ]
          },
          "metadata": {}
        },
        {
          "output_type": "display_data",
          "data": {
            "text/html": [
              "169"
            ],
            "text/markdown": "169",
            "text/latex": "169",
            "text/plain": [
              "[1] 169"
            ]
          },
          "metadata": {}
        },
        {
          "output_type": "display_data",
          "data": {
            "text/html": [
              "55"
            ],
            "text/markdown": "55",
            "text/latex": "55",
            "text/plain": [
              "[1] 55"
            ]
          },
          "metadata": {}
        },
        {
          "output_type": "display_data",
          "data": {
            "text/html": [
              "NaN"
            ],
            "text/markdown": "NaN",
            "text/latex": "NaN",
            "text/plain": [
              "[1] NaN"
            ]
          },
          "metadata": {}
        },
        {
          "output_type": "display_data",
          "data": {
            "text/html": [
              "Inf"
            ],
            "text/markdown": "Inf",
            "text/latex": "Inf",
            "text/plain": [
              "[1] Inf"
            ]
          },
          "metadata": {}
        }
      ]
    },
    {
      "cell_type": "markdown",
      "source": [
        "**Questão 3**"
      ],
      "metadata": {
        "id": "gmxx3dzvmqhk"
      }
    },
    {
      "cell_type": "code",
      "source": [
        "ceiling(2.547)\n",
        "floor(2.547)"
      ],
      "metadata": {
        "colab": {
          "base_uri": "https://localhost:8080/",
          "height": 52
        },
        "id": "zWFcEM5tmyIk",
        "outputId": "6d3c3316-d873-4627-c023-e81624218c5d"
      },
      "execution_count": 423,
      "outputs": [
        {
          "output_type": "display_data",
          "data": {
            "text/html": [
              "3"
            ],
            "text/markdown": "3",
            "text/latex": "3",
            "text/plain": [
              "[1] 3"
            ]
          },
          "metadata": {}
        },
        {
          "output_type": "display_data",
          "data": {
            "text/html": [
              "2"
            ],
            "text/markdown": "2",
            "text/latex": "2",
            "text/plain": [
              "[1] 2"
            ]
          },
          "metadata": {}
        }
      ]
    },
    {
      "cell_type": "markdown",
      "source": [
        "**Questão 4**"
      ],
      "metadata": {
        "id": "zu0Guv3mnB-m"
      }
    },
    {
      "cell_type": "code",
      "source": [
        "round(2.4785269, digits = 3)\n",
        "round(84.5468, digits = 2)\n",
        "round(5.8467, digits = 1)"
      ],
      "metadata": {
        "colab": {
          "base_uri": "https://localhost:8080/",
          "height": 69
        },
        "id": "4KBlF0ebnE1P",
        "outputId": "429c18d6-27ff-4296-c6ea-0bee4e5c5300"
      },
      "execution_count": 424,
      "outputs": [
        {
          "output_type": "display_data",
          "data": {
            "text/html": [
              "2.479"
            ],
            "text/markdown": "2.479",
            "text/latex": "2.479",
            "text/plain": [
              "[1] 2.479"
            ]
          },
          "metadata": {}
        },
        {
          "output_type": "display_data",
          "data": {
            "text/html": [
              "84.55"
            ],
            "text/markdown": "84.55",
            "text/latex": "84.55",
            "text/plain": [
              "[1] 84.55"
            ]
          },
          "metadata": {}
        },
        {
          "output_type": "display_data",
          "data": {
            "text/html": [
              "5.8"
            ],
            "text/markdown": "5.8",
            "text/latex": "5.8",
            "text/plain": [
              "[1] 5.8"
            ]
          },
          "metadata": {}
        }
      ]
    },
    {
      "cell_type": "markdown",
      "source": [
        "**Questão 5**"
      ],
      "metadata": {
        "id": "WW8WY2dfneB_"
      }
    },
    {
      "cell_type": "code",
      "source": [
        "signif(2.4785269, 3)\n",
        "signif(84.5468, 2)\n",
        "signif(5.8467, 1)"
      ],
      "metadata": {
        "colab": {
          "base_uri": "https://localhost:8080/",
          "height": 69
        },
        "id": "lHu33EZhnftX",
        "outputId": "a9299116-beba-4951-bbc2-f557c114b06c"
      },
      "execution_count": 425,
      "outputs": [
        {
          "output_type": "display_data",
          "data": {
            "text/html": [
              "2.48"
            ],
            "text/markdown": "2.48",
            "text/latex": "2.48",
            "text/plain": [
              "[1] 2.48"
            ]
          },
          "metadata": {}
        },
        {
          "output_type": "display_data",
          "data": {
            "text/html": [
              "85"
            ],
            "text/markdown": "85",
            "text/latex": "85",
            "text/plain": [
              "[1] 85"
            ]
          },
          "metadata": {}
        },
        {
          "output_type": "display_data",
          "data": {
            "text/html": [
              "6"
            ],
            "text/markdown": "6",
            "text/latex": "6",
            "text/plain": [
              "[1] 6"
            ]
          },
          "metadata": {}
        }
      ]
    },
    {
      "cell_type": "markdown",
      "source": [
        "**Questão 6**"
      ],
      "metadata": {
        "id": "lio76zHToEB-"
      }
    },
    {
      "cell_type": "code",
      "source": [
        "x <- 25\n",
        "y <- 17\n",
        "remove(x)\n"
      ],
      "metadata": {
        "id": "zlBtTzCqoFnG"
      },
      "execution_count": 426,
      "outputs": []
    },
    {
      "cell_type": "markdown",
      "source": [
        "**Questão 7**"
      ],
      "metadata": {
        "id": "ws1GY13qpJuN"
      }
    },
    {
      "cell_type": "code",
      "source": [
        "familia <- c (18, 5, 13)\n",
        "names(familia) <- c (\"pessoas\", \"crianças\", \"adultos\")\n",
        "print(familia)"
      ],
      "metadata": {
        "colab": {
          "base_uri": "https://localhost:8080/"
        },
        "id": "NoAVnjS6pLC-",
        "outputId": "39c2123c-a88d-40a5-b43a-a3b162db1b6e"
      },
      "execution_count": 427,
      "outputs": [
        {
          "output_type": "stream",
          "name": "stdout",
          "text": [
            " pessoas crianças  adultos \n",
            "      18        5       13 \n"
          ]
        }
      ]
    },
    {
      "cell_type": "markdown",
      "source": [
        "**Questão 8**"
      ],
      "metadata": {
        "id": "uI6b9Qfurv9W"
      }
    },
    {
      "cell_type": "code",
      "source": [
        "idades <- c (47, 18, NA, 30 )\n",
        "names(idades) <- c (\"1° Pessoa\", \"2° Pessoa\", \"3° Pessoa\", \"4° Pessoa\")\n",
        "print(idades)\n",
        "\n",
        "mean(idades, na.rm = TRUE)\n",
        "round(mean(idades, na.rm = TRUE, digits = 1))\n"
      ],
      "metadata": {
        "colab": {
          "base_uri": "https://localhost:8080/",
          "height": 86
        },
        "id": "7hbSJHCRrx_v",
        "outputId": "aa41dbe2-ddd8-4179-e321-7f619f054816"
      },
      "execution_count": 428,
      "outputs": [
        {
          "output_type": "stream",
          "name": "stdout",
          "text": [
            "1° Pessoa 2° Pessoa 3° Pessoa 4° Pessoa \n",
            "       47        18        NA        30 \n"
          ]
        },
        {
          "output_type": "display_data",
          "data": {
            "text/html": [
              "31.6666666666667"
            ],
            "text/markdown": "31.6666666666667",
            "text/latex": "31.6666666666667",
            "text/plain": [
              "[1] 31.66667"
            ]
          },
          "metadata": {}
        },
        {
          "output_type": "display_data",
          "data": {
            "text/html": [
              "32"
            ],
            "text/markdown": "32",
            "text/latex": "32",
            "text/plain": [
              "[1] 32"
            ]
          },
          "metadata": {}
        }
      ]
    }
  ],
  "metadata": {
    "colab": {
      "name": "Conheça o Colab",
      "provenance": [],
      "include_colab_link": true
    },
    "kernelspec": {
      "display_name": "R",
      "name": "ir"
    },
    "language_info": {
      "name": "R"
    }
  },
  "nbformat": 4,
  "nbformat_minor": 0
}